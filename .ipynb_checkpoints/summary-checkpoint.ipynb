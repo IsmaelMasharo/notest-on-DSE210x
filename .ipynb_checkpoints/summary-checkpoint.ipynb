{
 "cells": [
  {
   "cell_type": "markdown",
   "metadata": {},
   "source": [
    "### Sample Space and Events"
   ]
  },
  {
   "cell_type": "markdown",
   "metadata": {},
   "source": [
    ">The **sample space S** of an **experiment** is the `set of all possible outcomes` of the `experiment`. \n",
    "\n",
    ">An **event A** is a (`condition`) `subset of the sample space S`, and we say that A occurred if the actual outcome is in A."
   ]
  },
  {
   "cell_type": "markdown",
   "metadata": {},
   "source": [
    "<img src=\"images/sample-space-and-events.png\" width=\"500\" align=\"center\">"
   ]
  },
  {
   "cell_type": "markdown",
   "metadata": {},
   "source": [
    "#### For example: \n",
    "\n",
    ">**The experiment** such that `a coin is flipped 10 times.`  (Writing `Heads as H and Tails as T`  )   \n",
    "\n",
    ">**The sample space** of the **experiment** is the `set of all possible strings of length 10 of H’s and T’s`  \n",
    "\n",
    ">`A possible outcome (pebble) is HHHTHHTTHT`  "
   ]
  },
  {
   "cell_type": "markdown",
   "metadata": {},
   "source": [
    "We can **encode** `H as 1 and T as 0,` so that an outcome is a `sequence` (s1 , . . . , s10) where sj belongs to {0, 1} for 2 <= j <= 10},  "
   ]
  },
  {
   "cell_type": "markdown",
   "metadata": {},
   "source": [
    ">**The event A1** such that (with the `condition`) the `first flip is Head`  \n",
    "\n",
    ">**A1 is a set**, A1 = {(1, s2 , . . . , s10 ) : sj belongs to {0, 1} for 2 <= j <= 10}.\n",
    "\n",
    ">**A1 is a subset of the sample space S**, so `it is indeed an event`   "
   ]
  },
  {
   "cell_type": "markdown",
   "metadata": {},
   "source": [
    "Saying that A1 **occurs** is the same thing as saying that **the first flip is Heads**.  "
   ]
  },
  {
   "cell_type": "markdown",
   "metadata": {},
   "source": [
    "<img src=\"images/sentence-to-sets.png\" width=\"500\" align=\"center\">"
   ]
  },
  {
   "cell_type": "markdown",
   "metadata": {},
   "source": [
    "### Probabilities"
   ]
  },
  {
   "cell_type": "markdown",
   "metadata": {},
   "source": [
    ">**Function** that **takes an event** and `assigns to it a real number between 0 and 1`"
   ]
  },
  {
   "cell_type": "markdown",
   "metadata": {},
   "source": [
    "<img src=\"images/events-and-probabilities.png\" width=\"500\" align=\"center\">"
   ]
  },
  {
   "cell_type": "markdown",
   "metadata": {},
   "source": [
    ">`Events are sets` while `Probabilities are numbers`  \n",
    "\n",
    ">`Before the experiment` is done, we generally don’t know `whether or not a particular event will occur` (happen)  \n",
    "So `we assign it a probability of happening`, using a `probability function P` ."
   ]
  },
  {
   "cell_type": "markdown",
   "metadata": {},
   "source": [
    "### Why probabilities"
   ]
  },
  {
   "cell_type": "markdown",
   "metadata": {},
   "source": [
    "> It is a function indeed (as a random variable) but it's meant to `quantify the uncertainty of each posible event (outcome)` of the sample space."
   ]
  },
  {
   "cell_type": "markdown",
   "metadata": {},
   "source": [
    "### Random Variables"
   ]
  },
  {
   "cell_type": "markdown",
   "metadata": {},
   "source": [
    "```\n",
    "Expressing compound events in terms of their single notation can become unnecesarelly overwhelming. Taking the example of the coin flips we could ask something like *the odd number of heads after n flips with two coins*. So, to instead of defining this event in terms of the basic event `Aj`, we use random variables\n",
    "```"
   ]
  },
  {
   "cell_type": "markdown",
   "metadata": {},
   "source": [
    ">Given an **experiment with sample space S**, a random variable (r.v.) is a **function** `from the sample space S to the real numbers R`  \n",
    "\n",
    ">A `random variable X` assigns a `numerical value X(s)` to each possible `outcome \"s\" of the experiment`."
   ]
  },
  {
   "cell_type": "markdown",
   "metadata": {},
   "source": [
    "```\n",
    "For a sample space with a finite number of outcomes we can visualize the outcomes as pebbles, with the mass of a pebble corresponding to its probability, such that the total mass of the pebbles is 1. A random variable simply labels each pebble with a number.\n",
    "```"
   ]
  },
  {
   "cell_type": "markdown",
   "metadata": {},
   "source": [
    "<img src=\"images/rv-mapping.png\" width=\"500\" align=\"center\">"
   ]
  },
  {
   "cell_type": "markdown",
   "metadata": {},
   "source": [
    "### Why random variables\n",
    "\n",
    "> It is a function indeed (as a probability) but it's meant to `quantify results of any experiment`, but how's that usefull?\n",
    "\n",
    "```\n",
    "If we flip 5 coins and want to answers questions like:\n",
    "1. What is the probability of getting exactly 3 heads?\n",
    "2. What is the probability of getting less than 4 heads?\n",
    "3. What is the probability of getting more than 1 head?\n",
    "\n",
    "Then our general way of writing would be:\n",
    "\n",
    "· P(Probability of getting exactly 3 heads when we flip a coin 5 times)\n",
    "· P(Probability of getting less than 4 heads when we flip a coin 5 times)\n",
    "· P(Probability of getting more than 1 head when we flip a coin 5 times)\n",
    "\n",
    "But if we use random variables to represent above questions then we would write:\n",
    "1. P(X=3)\n",
    "2. P(X<4)\n",
    "3. P(X>1)\n",
    "```"
   ]
  },
  {
   "cell_type": "markdown",
   "metadata": {},
   "source": [
    "### For example:"
   ]
  },
  {
   "cell_type": "markdown",
   "metadata": {},
   "source": [
    ">`The experiment` where we `toss a fair coin twice`  \n",
    "\n",
    ">`The sample space S` consists of the set of four possible **outcomes**: `S = {HH, HT, TH, TT }`  \n",
    "\n",
    ">`The event A` (**subset of outcomes**) such that in both flips we get Heads: `A = { HH }`\n",
    "\n",
    ">`The probability of each outcome` (**including those of the event**) can be represented as `the size of each pebble`\n",
    "\n",
    ">`The random variable X` as the number of Heads.\n",
    "\n",
    ">`Quantifying each outcome` we could express the probability of `the event A of getting two heads`  as `P(X=2)`  \n",
    "\n",
    ">`Mapping any events into numbers` in order to express qualities (language) into quantities (numbers)  \n",
    "`P(the event B of getting at least one head) === P(X>=1)`  \n"
   ]
  },
  {
   "cell_type": "markdown",
   "metadata": {},
   "source": [
    "<img src=\"images/space-event-rv.png\" width=\"500\" align=\"center\">"
   ]
  },
  {
   "cell_type": "markdown",
   "metadata": {},
   "source": [
    "### Expected Value"
   ]
  },
  {
   "cell_type": "markdown",
   "metadata": {},
   "source": [
    ">The intuition behind the expected value is the ways in which the mean can be expresed: as `arithmetic mean` <img src=\"images/arithmetic-mean.png\" width=\"140\" align=\"center\"> or as `weighted mean` <img src=\"images/weighted-mean.png\" width=\"270\" align=\"center\">\n",
    "\n",
    ">The definition of `expectation for a discrete r.v.` is inspired by the `weighted mean` of a list of numbers, `with weights given by probabilities`.\n",
    "\n",
    ">Then, the `expected value` is define as <img src=\"images/expected-value-formula.png\" width=\"230\" align=\"center\">\n",
    ">Note that `its value could be undefined if the sum diverges`."
   ]
  },
  {
   "cell_type": "markdown",
   "metadata": {},
   "source": [
    "### LOTUS a.k.a. Law of the unconscious statistician\n",
    "\n",
    ">What the law says is that: <img src=\"images/lotus.png\" width=\"270\" align=\"center\">. What this means is that we do not need to use g(x) as `P(X=g(x))` but rather we can almost replace *unconsciously* *x* as in the base distribution of `P(X=x)`  \n",
    ">Note that `this will only work if g(x) is a linear function of the random variable X`."
   ]
  },
  {
   "cell_type": "markdown",
   "metadata": {},
   "source": [
    "### Moments\n",
    "\n",
    ">`Moments define the shape of a function`.\n",
    "\n",
    ">Let X be an r.v. with mean μ and variance sigma^2.  \n",
    "\n",
    ">For any positive integer n, the nth moment of X is <img src=\"images/single-moment.png\" width=\"60\" align=\"center\">  \n",
    "\n",
    ">the nth central moment is <img src=\"images/central-moment.png\" width=\"100\" align=\"center\">  \n",
    "\n",
    ">the nth standarized moment is <img src=\"images/standar-moment.png\" width=\"100\" align=\"center\">  \n",
    "\n",
    "<img src=\"images/moments-analogy.png\" width=\"600\" align=\"center\">  \n"
   ]
  },
  {
   "cell_type": "markdown",
   "metadata": {},
   "source": [
    "### Moment Generating Functions"
   ]
  },
  {
   "cell_type": "markdown",
   "metadata": {},
   "source": [
    ">The general idea behind a generating function is as follows: `starting with a sequence of numbers, create a continuous function —the generating function— that encodes the sequence`.  \n",
    "\n",
    ">We then have all the `tools of calculus` at our disposal `for manipulating the generating function`.\n",
    "\n",
    ">A m.g.f. `is a generating function that encodes the moments of a distribution`.\n",
    "\n",
    ">MGFs are useful for three main reasons:  \n",
    "1. for `computing moments` easier `with derivatives` (as an alternative to LOTUS that will use integrals)  \n",
    "2. for `studying sums of independent r.v.s`  \n",
    "3. and since `they fully determine the distribution` and `thus serve as an additional blueprint for a it`."
   ]
  },
  {
   "cell_type": "markdown",
   "metadata": {},
   "source": [
    "><div style=\"float: left\">\n",
    "<img src=\"images/mgf-def.png\" width=\"700\" align=\"left\">\n",
    "<img src=\"images/mgf-use.png\" width=\"700\" align=\"right\">\n",
    "</div>"
   ]
  },
  {
   "cell_type": "markdown",
   "metadata": {},
   "source": [
    "### The big Picture\n",
    "\n",
    ">The concepts can be seen tight together as in the following image:  \n",
    "\n",
    "<img src=\"images/big-picture-X-rv.png\" width=\"700\" align=\"center\">"
   ]
  },
  {
   "cell_type": "markdown",
   "metadata": {},
   "source": [
    "### Resources\n",
    "\n",
    "* [cheat sheet 1 - escential](https://stanford.edu/~shervine/teaching/cme-106/cheatsheet-probability)\n",
    "* [cheat sheet 2 - summary](https://static1.squarespace.com/static/54bf3241e4b0f0d81bf7ff36/t/55e9494fe4b011aed10e48e5/1441352015658/probability_cheatsheet.pdf)\n",
    "* [cheat sheet 3 - pd stories](http://web.cs.elte.hu/~mesti/valszam/kepletek)"
   ]
  }
 ],
 "metadata": {
  "kernelspec": {
   "display_name": "Python [conda env:root] *",
   "language": "python",
   "name": "conda-root-py"
  },
  "language_info": {
   "codemirror_mode": {
    "name": "ipython",
    "version": 3
   },
   "file_extension": ".py",
   "mimetype": "text/x-python",
   "name": "python",
   "nbconvert_exporter": "python",
   "pygments_lexer": "ipython3",
   "version": "3.7.3"
  }
 },
 "nbformat": 4,
 "nbformat_minor": 4
}
